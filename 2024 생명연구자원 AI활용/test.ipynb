df=pd.DataFrame(train)

# 유전자 열 선택 (ID와 SUBCLASS 열을 제외)
gene_columns = df.columns[2:]

# 모든 유전자 열이 'WT'인지 확인하고 해당 열만 선택
all_wt_genes = [col for col in gene_columns if (df[col] == 'WT').all()]

# 선택된 모든 유전자 열이 'WT'인 열들만 포함한 데이터프레임
all_wt_df = df[all_wt_genes]

# 모든 'WT'인 유전자 열 삭제
df_without_all_wt_genes = df.drop(columns=all_wt_genes)
